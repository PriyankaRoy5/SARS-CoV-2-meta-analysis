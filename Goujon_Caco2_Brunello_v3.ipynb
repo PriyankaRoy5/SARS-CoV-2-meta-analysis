{
 "cells": [
  {
   "cell_type": "markdown",
   "metadata": {
    "toc": true
   },
   "source": [
    "<h1>Table of Contents<span class=\"tocSkip\"></span></h1>\n",
    "<div class=\"toc\"><ul class=\"toc-item\"><li><span><a href=\"#Data-summary\" data-toc-modified-id=\"Data-summary-1\"><span class=\"toc-item-num\">1&nbsp;&nbsp;</span>Data summary</a></span></li><li><span><a href=\"#Quality-Control\" data-toc-modified-id=\"Quality-Control-2\"><span class=\"toc-item-num\">2&nbsp;&nbsp;</span>Quality Control</a></span><ul class=\"toc-item\"><li><span><a href=\"#Population-Distributions\" data-toc-modified-id=\"Population-Distributions-2.1\"><span class=\"toc-item-num\">2.1&nbsp;&nbsp;</span>Population Distributions</a></span></li><li><span><a href=\"#Control-Distributions\" data-toc-modified-id=\"Control-Distributions-2.2\"><span class=\"toc-item-num\">2.2&nbsp;&nbsp;</span>Control Distributions</a></span></li><li><span><a href=\"#ROC-AUC\" data-toc-modified-id=\"ROC-AUC-2.3\"><span class=\"toc-item-num\">2.3&nbsp;&nbsp;</span>ROC-AUC</a></span></li></ul></li><li><span><a href=\"#Gene-level-analysis\" data-toc-modified-id=\"Gene-level-analysis-3\"><span class=\"toc-item-num\">3&nbsp;&nbsp;</span>Gene level analysis</a></span><ul class=\"toc-item\"><li><span><a href=\"#Residual-z-scores\" data-toc-modified-id=\"Residual-z-scores-3.1\"><span class=\"toc-item-num\">3.1&nbsp;&nbsp;</span>Residual z-scores</a></span></li></ul></li></ul></div>"
   ]
  },
  {
   "cell_type": "code",
   "execution_count": 1,
   "metadata": {},
   "outputs": [],
   "source": [
    "import pandas as pd\n",
    "import numpy as np\n",
    "import matplotlib.pyplot as plt\n",
    "import seaborn as sns\n",
    "import gpplot as gpp\n",
    "\n",
    "from poola import core as pool\n",
    "\n",
    "import core_functions as fns\n",
    "\n",
    "gpp.set_aesthetics(palette='Set2')\n",
    "\n"
   ]
  },
  {
   "cell_type": "code",
   "execution_count": 2,
   "metadata": {},
   "outputs": [],
   "source": [
    "import anchors\n",
    "import statsmodels\n",
    "from scipy import stats\n",
    "\n",
    "def group_cols(df, initial_id = 'ini', res_id = 'res', col_type = 'LFC'): #if more than one set of initial/resistant pop pairs, sharex = True, store pairs in list\n",
    "    '''\n",
    "    Inputs: \n",
    "    1. df: Dataframe containing log-fold change values and gene symbols \n",
    "    2. initial_id: string identifying initial column names (default: 'control'), only used if multiple subplots\n",
    "    3. res_id: string identifying resistant column names (default: 'MOI'), only used if multiple subplots\n",
    "    4. col_type: string in names of columns containing data to be plotted (default: 'lfc')\n",
    "    Outputs: \n",
    "    1. sharex: if number of pairs greater than 1 indicating multiple subplots\n",
    "    2. pairs: pairs of initial and resistant populations as list of lists     \n",
    "    '''\n",
    "    cols = [col for col in df.columns if col_type in col]\n",
    "    pairs = [] #list of lists: ini/res pop pairs\n",
    "    if len(cols) > 2: #if more than one set of initial/resistant pop pairs \n",
    "        sharex = True # set sharex parameter for subplot \n",
    "        for index, col in enumerate(cols):\n",
    "            pair = []\n",
    "            if initial_id in col: #find corresponding resistant pop\n",
    "                pair.append(col)\n",
    "                split_col = col.split('_')\n",
    "                ini_index = split_col.index(initial_id)\n",
    "                res_col_string = '_'.join(split_col[:ini_index])\n",
    "                print(res_col_string)\n",
    "                if 'screen' in col: \n",
    "                    screen_index = split_col.index('screen')\n",
    "                    screen = split_col[screen_index]\n",
    "                    number = split_col[screen_index+1]\n",
    "                    screen_str = screen + ' ' + number \n",
    "                    #res_col_string = res_col_string + ' ' + screen_str\n",
    "                    print(res_col_string)\n",
    "                    res_pop = [col for col in cols if (res_col_string in col) and (res_id in col)]# and (screen_str in col)]\n",
    "                else:\n",
    "                    res_pop = [col for col in cols if (res_col_string in col) and (res_id in col) and ('screen' not in col)]\n",
    "\n",
    "                print(res_pop)\n",
    "                for col in res_pop:\n",
    "                    pair.append(col)\n",
    "                    \n",
    "                pairs.append(pair) #add to list of pairs (list of lists)\n",
    "        return sharex, pairs\n",
    "    else: #if only one pair of initial/resistant pops\n",
    "        sharex = False\n",
    "        pairs.append(cols)\n",
    "        return sharex, pairs\n",
    "    \n",
    "def run_guide_residuals(lfc_df):\n",
    "    '''\n",
    "    Calls get_guide_residuals function from anchors package to calculate guide-level residual z-scores\n",
    "    Input:\n",
    "    1. lfc_df: data frame with log-fold changes (relative to pDNA)\n",
    "    '''\n",
    "    paired_lfc_cols = group_cols(lfc_df)[1] #get lfc pairs\n",
    "\n",
    "    #reference_df: column1 = modifier condition, column2 = unperturbed column\n",
    "    ref_df = pd.DataFrame(columns=['modified', 'unperturbed'])\n",
    "    row = 0 #row index for reference df \n",
    "    for pair in paired_lfc_cols:\n",
    "        #number of resistant pops in pair = len(pair)-1\n",
    "        res_idx = 1 \n",
    "        #if multiple resistant populations, iterate \n",
    "        while res_idx < len(pair): \n",
    "            ref_df.loc[row, 'modified'] = pair[res_idx]\n",
    "            ref_df.loc[row, 'unperturbed'] = pair[0]\n",
    "            res_idx +=1 \n",
    "            row +=1\n",
    "    print(ref_df)\n",
    "    #input lfc_df, reference_df \n",
    "    #guide-level\n",
    "    residuals_lfcs, all_model_info, model_fit_plots = anchors.get_guide_residuals(lfc_df, ref_df)\n",
    "    return residuals_lfcs, all_model_info, model_fit_plots\n",
    "\n"
   ]
  },
  {
   "cell_type": "markdown",
   "metadata": {},
   "source": [
    "## Data summary\n",
    "\n",
    "* Cell line: Caco-2\n",
    "* Library: Brunello"
   ]
  },
  {
   "cell_type": "code",
   "execution_count": 3,
   "metadata": {},
   "outputs": [],
   "source": [
    "reads_plate1 = pd.read_csv('../../Data/Reads/Goujon/Caco2/counts-JD_GPP1887_Goujon_Plate1.txt', sep ='\\t')\n"
   ]
  },
  {
   "cell_type": "code",
   "execution_count": 4,
   "metadata": {},
   "outputs": [
    {
     "data": {
      "text/html": [
       "<div>\n",
       "<style scoped>\n",
       "    .dataframe tbody tr th:only-of-type {\n",
       "        vertical-align: middle;\n",
       "    }\n",
       "\n",
       "    .dataframe tbody tr th {\n",
       "        vertical-align: top;\n",
       "    }\n",
       "\n",
       "    .dataframe thead th {\n",
       "        text-align: right;\n",
       "    }\n",
       "</style>\n",
       "<table border=\"1\" class=\"dataframe\">\n",
       "  <thead>\n",
       "    <tr style=\"text-align: right;\">\n",
       "      <th></th>\n",
       "      <th>sgRNA Sequence</th>\n",
       "      <th>Caco2_1_ini_pop_LFC</th>\n",
       "      <th>Caco2_1_res_pop_LFC</th>\n",
       "      <th>Caco2_2.1_ini_pop_LFC</th>\n",
       "      <th>Caco2_2.1_res_pop_LFC</th>\n",
       "      <th>Barcode Sequence</th>\n",
       "      <th>Gene Symbol</th>\n",
       "      <th>Gene ID</th>\n",
       "    </tr>\n",
       "  </thead>\n",
       "  <tbody>\n",
       "    <tr>\n",
       "      <th>0</th>\n",
       "      <td>AAAAAAAATCCGGACAATGG</td>\n",
       "      <td>-0.627596</td>\n",
       "      <td>-4.192756</td>\n",
       "      <td>-0.116111</td>\n",
       "      <td>-4.192756</td>\n",
       "      <td>AAAAAAAATCCGGACAATGG</td>\n",
       "      <td>SLC25A24</td>\n",
       "      <td>29957</td>\n",
       "    </tr>\n",
       "    <tr>\n",
       "      <th>1</th>\n",
       "      <td>AAAAAAAGGATGGTGATCAA</td>\n",
       "      <td>0.329512</td>\n",
       "      <td>-2.425958</td>\n",
       "      <td>-0.336067</td>\n",
       "      <td>-4.127852</td>\n",
       "      <td>AAAAAAAGGATGGTGATCAA</td>\n",
       "      <td>FASTKD3</td>\n",
       "      <td>79072</td>\n",
       "    </tr>\n",
       "    <tr>\n",
       "      <th>2</th>\n",
       "      <td>AAAAAAATGACATTACTGCA</td>\n",
       "      <td>-0.809971</td>\n",
       "      <td>-4.041390</td>\n",
       "      <td>0.005114</td>\n",
       "      <td>-4.041390</td>\n",
       "      <td>AAAAAAATGACATTACTGCA</td>\n",
       "      <td>BCAS2</td>\n",
       "      <td>10286</td>\n",
       "    </tr>\n",
       "    <tr>\n",
       "      <th>3</th>\n",
       "      <td>AAAAAAATGTCAGTCGAGTG</td>\n",
       "      <td>0.188302</td>\n",
       "      <td>-2.930437</td>\n",
       "      <td>-0.026835</td>\n",
       "      <td>-2.930437</td>\n",
       "      <td>AAAAAAATGTCAGTCGAGTG</td>\n",
       "      <td>GPR18</td>\n",
       "      <td>2841</td>\n",
       "    </tr>\n",
       "    <tr>\n",
       "      <th>4</th>\n",
       "      <td>AAAAAACACAAGCAAGACCG</td>\n",
       "      <td>-0.734830</td>\n",
       "      <td>-3.388394</td>\n",
       "      <td>-0.177961</td>\n",
       "      <td>-3.388394</td>\n",
       "      <td>AAAAAACACAAGCAAGACCG</td>\n",
       "      <td>ZNF470</td>\n",
       "      <td>388566</td>\n",
       "    </tr>\n",
       "    <tr>\n",
       "      <th>...</th>\n",
       "      <td>...</td>\n",
       "      <td>...</td>\n",
       "      <td>...</td>\n",
       "      <td>...</td>\n",
       "      <td>...</td>\n",
       "      <td>...</td>\n",
       "      <td>...</td>\n",
       "      <td>...</td>\n",
       "    </tr>\n",
       "    <tr>\n",
       "      <th>87443</th>\n",
       "      <td>TTTTGACTCTAATCACCGGT</td>\n",
       "      <td>0.615543</td>\n",
       "      <td>-3.948733</td>\n",
       "      <td>0.014619</td>\n",
       "      <td>-4.319765</td>\n",
       "      <td>TTTTGACTCTAATCACCGGT</td>\n",
       "      <td>INACTIVE_4T_54</td>\n",
       "      <td>INACTIVE_4T_54</td>\n",
       "    </tr>\n",
       "    <tr>\n",
       "      <th>87444</th>\n",
       "      <td>TTTTTAATACAAGGTAATCT</td>\n",
       "      <td>0.311723</td>\n",
       "      <td>-3.304341</td>\n",
       "      <td>-0.038510</td>\n",
       "      <td>-4.142241</td>\n",
       "      <td>TTTTTAATACAAGGTAATCT</td>\n",
       "      <td>NO_SITE_940</td>\n",
       "      <td>NO_SITE_940</td>\n",
       "    </tr>\n",
       "    <tr>\n",
       "      <th>87445</th>\n",
       "      <td>TTTTTAATACAAGGTAATCT</td>\n",
       "      <td>0.311723</td>\n",
       "      <td>-3.304341</td>\n",
       "      <td>-0.038510</td>\n",
       "      <td>-4.142241</td>\n",
       "      <td>TTTTTAATACAAGGTAATCT</td>\n",
       "      <td>INACTIVE_5T_55</td>\n",
       "      <td>INACTIVE_5T_55</td>\n",
       "    </tr>\n",
       "    <tr>\n",
       "      <th>87446</th>\n",
       "      <td>TTTTTCTCACCCGATGAATC</td>\n",
       "      <td>-0.181965</td>\n",
       "      <td>-4.516670</td>\n",
       "      <td>0.126258</td>\n",
       "      <td>-4.516670</td>\n",
       "      <td>TTTTTCTCACCCGATGAATC</td>\n",
       "      <td>NO_SITE_941</td>\n",
       "      <td>NO_SITE_941</td>\n",
       "    </tr>\n",
       "    <tr>\n",
       "      <th>87447</th>\n",
       "      <td>TTTTTCTCACCCGATGAATC</td>\n",
       "      <td>-0.181965</td>\n",
       "      <td>-4.516670</td>\n",
       "      <td>0.126258</td>\n",
       "      <td>-4.516670</td>\n",
       "      <td>TTTTTCTCACCCGATGAATC</td>\n",
       "      <td>INACTIVE_5T_56</td>\n",
       "      <td>INACTIVE_5T_56</td>\n",
       "    </tr>\n",
       "  </tbody>\n",
       "</table>\n",
       "<p>87448 rows × 8 columns</p>\n",
       "</div>"
      ],
      "text/plain": [
       "             sgRNA Sequence  Caco2_1_ini_pop_LFC  Caco2_1_res_pop_LFC  \\\n",
       "0      AAAAAAAATCCGGACAATGG            -0.627596            -4.192756   \n",
       "1      AAAAAAAGGATGGTGATCAA             0.329512            -2.425958   \n",
       "2      AAAAAAATGACATTACTGCA            -0.809971            -4.041390   \n",
       "3      AAAAAAATGTCAGTCGAGTG             0.188302            -2.930437   \n",
       "4      AAAAAACACAAGCAAGACCG            -0.734830            -3.388394   \n",
       "...                     ...                  ...                  ...   \n",
       "87443  TTTTGACTCTAATCACCGGT             0.615543            -3.948733   \n",
       "87444  TTTTTAATACAAGGTAATCT             0.311723            -3.304341   \n",
       "87445  TTTTTAATACAAGGTAATCT             0.311723            -3.304341   \n",
       "87446  TTTTTCTCACCCGATGAATC            -0.181965            -4.516670   \n",
       "87447  TTTTTCTCACCCGATGAATC            -0.181965            -4.516670   \n",
       "\n",
       "       Caco2_2.1_ini_pop_LFC  Caco2_2.1_res_pop_LFC      Barcode Sequence  \\\n",
       "0                  -0.116111              -4.192756  AAAAAAAATCCGGACAATGG   \n",
       "1                  -0.336067              -4.127852  AAAAAAAGGATGGTGATCAA   \n",
       "2                   0.005114              -4.041390  AAAAAAATGACATTACTGCA   \n",
       "3                  -0.026835              -2.930437  AAAAAAATGTCAGTCGAGTG   \n",
       "4                  -0.177961              -3.388394  AAAAAACACAAGCAAGACCG   \n",
       "...                      ...                    ...                   ...   \n",
       "87443               0.014619              -4.319765  TTTTGACTCTAATCACCGGT   \n",
       "87444              -0.038510              -4.142241  TTTTTAATACAAGGTAATCT   \n",
       "87445              -0.038510              -4.142241  TTTTTAATACAAGGTAATCT   \n",
       "87446               0.126258              -4.516670  TTTTTCTCACCCGATGAATC   \n",
       "87447               0.126258              -4.516670  TTTTTCTCACCCGATGAATC   \n",
       "\n",
       "          Gene Symbol         Gene ID  \n",
       "0            SLC25A24           29957  \n",
       "1             FASTKD3           79072  \n",
       "2               BCAS2           10286  \n",
       "3               GPR18            2841  \n",
       "4              ZNF470          388566  \n",
       "...               ...             ...  \n",
       "87443  INACTIVE_4T_54  INACTIVE_4T_54  \n",
       "87444     NO_SITE_940     NO_SITE_940  \n",
       "87445  INACTIVE_5T_55  INACTIVE_5T_55  \n",
       "87446     NO_SITE_941     NO_SITE_941  \n",
       "87447  INACTIVE_5T_56  INACTIVE_5T_56  \n",
       "\n",
       "[87448 rows x 8 columns]"
      ]
     },
     "execution_count": 4,
     "metadata": {},
     "output_type": "execute_result"
    }
   ],
   "source": [
    "bru_goujon_lfc = pd.read_csv('../../Data/Interim/Goujon/Caco2/Brunello_pDNA_LFC_ann.txt', sep='\\t')\n",
    "Huh_cols = [col for col in bru_goujon_lfc.columns if 'Huh' in col]\n",
    "Caco_lfc = bru_goujon_lfc.copy().drop(Huh_cols, axis =1)\n",
    "Caco_lfc"
   ]
  },
  {
   "cell_type": "code",
   "execution_count": 5,
   "metadata": {},
   "outputs": [],
   "source": [
    "controls_dict = fns.get_controls(Caco_lfc, control_name=['NO_SITE', 'ONE_INTERGENIC'], separate=True)"
   ]
  },
  {
   "cell_type": "markdown",
   "metadata": {},
   "source": [
    "## Quality Control\n",
    "### Population Distributions"
   ]
  },
  {
   "cell_type": "code",
   "execution_count": 6,
   "metadata": {},
   "outputs": [
    {
     "data": {
      "image/png": "[encoded data removed]",
      "text/plain": [
       "<Figure size 360x432 with 2 Axes>"
      ]
     },
     "metadata": {},
     "output_type": "display_data"
    }
   ],
   "source": [
    "fig, ax = plt.subplots(nrows=2, ncols=1, sharex=True, figsize=(5,6))\n",
    "i,j = 0,0\n",
    "cols = [['Caco2_1_ini_pop_LFC','Caco2_1_res_pop_LFC'],['Caco2_2.1_ini_pop_LFC','Caco2_2.1_res_pop_LFC']]\n",
    "for k,c in enumerate(cols):\n",
    "    for l, c1 in enumerate(c):\n",
    "        if l==0:\n",
    "            label1 = 'Initial population'\n",
    "        else:\n",
    "            label1 = 'Resistant population-'+str(l)\n",
    "        Caco_lfc[c1].plot(kind='kde',c=sns.color_palette('Set2')[l],label=label1, ax=ax[i], legend=True)\n",
    "        sns.despine()\n",
    "        t = ax[i].set_xlabel('Log-fold changes')\n",
    "        title = ','.join(c1.split('_')[:2])\n",
    "        t = ax[i].set_title(title)\n",
    "    i+=1\n",
    "    \n",
    "fig.savefig('../../Figures/Caco2_distributions.png', bbox_inches=\"tight\")"
   ]
  },
  {
   "cell_type": "markdown",
   "metadata": {},
   "source": [
    "### Control Distributions "
   ]
  },
  {
   "cell_type": "code",
   "execution_count": 7,
   "metadata": {},
   "outputs": [
    {
     "name": "stdout",
     "output_type": "stream",
     "text": [
      "0 ['Caco2_1_ini_pop_LFC', 'Caco2_1_res_pop_LFC']\n",
      "1 ['Caco2_2.1_ini_pop_LFC', 'Caco2_2.1_res_pop_LFC']\n"
     ]
    },
    {
     "data": {
      "image/png": "[encoded data removed]",
      "text/plain": [
       "<Figure size 360x432 with 2 Axes>"
      ]
     },
     "metadata": {},
     "output_type": "display_data"
    }
   ],
   "source": [
    "fig, ax = plt.subplots(nrows=2, ncols=1, sharex=True, figsize=(5,6))\n",
    "i,j = 0,0\n",
    "cols = [['Caco2_1_ini_pop_LFC','Caco2_1_res_pop_LFC'],['Caco2_2.1_ini_pop_LFC','Caco2_2.1_res_pop_LFC']]\n",
    "\n",
    "\n",
    "for k,c in enumerate(cols):\n",
    "    print(k, c)\n",
    "    for l, c1 in enumerate(c): \n",
    "        for key, controls in controls_dict.items():\n",
    "            controls[c1].plot(kind='kde',c=sns.color_palette('Set2')[l],label= c1+', '+ key, ax=ax[i], legend=True)\n",
    "\n",
    "    ax[i].legend(bbox_to_anchor=(1.05, 1), loc=2, borderaxespad=0.)\n",
    "    sns.despine()\n",
    "    t = ax[i].set_xlabel('Log-fold changes')\n",
    "    title = ','.join(c[0].split('_')[:2])+', Brunello'\n",
    "    t = ax[i].set_title(title)\n",
    "    i+=1\n",
    "\n",
    "fig.savefig('../../Figures/Caco2_control_distributions.png', bbox_inches=\"tight\")"
   ]
  },
  {
   "cell_type": "markdown",
   "metadata": {},
   "source": [
    "### ROC-AUC"
   ]
  },
  {
   "cell_type": "code",
   "execution_count": 8,
   "metadata": {
    "hide_input": false
   },
   "outputs": [
    {
     "data": {
      "image/png": "[encoded data removed]",
      "text/plain": [
       "<Figure size 432x432 with 1 Axes>"
      ]
     },
     "metadata": {},
     "output_type": "display_data"
    }
   ],
   "source": [
    "ess_genes, non_ess_genes = fns.get_gene_sets()\n",
    "\n",
    "tp_genes = ess_genes.loc[:, 'Gene Symbol'].to_list()\n",
    "\n",
    "fp_genes = non_ess_genes.loc[:, 'Gene Symbol'].to_list()\n",
    "\n",
    "initial_cols = [col for col in Caco_lfc.columns if 'ini' in col]\n",
    "initial_roc_dict = {}\n",
    "intial_roc_auc_dict = {}\n",
    "for col in initial_cols:\n",
    "    roc_auc, roc_df = pool.get_roc_aucs(Caco_lfc, tp_genes, fp_genes, gene_col = 'Gene Symbol', score_col=col)\n",
    "    initial_roc_dict[col] = roc_df\n",
    "    intial_roc_auc_dict[col] = roc_auc\n",
    "\n",
    "fig,ax=plt.subplots(figsize=(6,6))\n",
    "\n",
    "for key, df in initial_roc_dict.items():\n",
    "    roc_auc = intial_roc_auc_dict[key]\n",
    "    ax=sns.lineplot(data=df, x='fpr',y='tpr', ci=None, label = key+',' + str(round(roc_auc,2)))\n",
    "\n",
    "plt.legend(bbox_to_anchor=(1.05, 1), loc=2, borderaxespad=0.)\n",
    "plt.title('ROC-AUC')\n",
    "plt.xlabel('False Positive Rate (non-essential)')\n",
    "plt.ylabel('True Positive Rate (essential)')\n",
    "\n",
    "fig.savefig('../../Figures/Caco2ROCAUC.png', bbox_inches = 'tight')"
   ]
  },
  {
   "cell_type": "markdown",
   "metadata": {},
   "source": [
    "## Gene level analysis"
   ]
  },
  {
   "cell_type": "markdown",
   "metadata": {},
   "source": [
    "### Residual z-scores"
   ]
  },
  {
   "cell_type": "code",
   "execution_count": 9,
   "metadata": {},
   "outputs": [
    {
     "name": "stdout",
     "output_type": "stream",
     "text": [
      "Caco2_1\n",
      "['Caco2_1_res_pop_LFC']\n",
      "Caco2_2.1\n",
      "['Caco2_2.1_res_pop_LFC']\n",
      "                modified            unperturbed\n",
      "0    Caco2_1_res_pop_LFC    Caco2_1_ini_pop_LFC\n",
      "1  Caco2_2.1_res_pop_LFC  Caco2_2.1_ini_pop_LFC\n"
     ]
    }
   ],
   "source": [
    "Caco_lfc = Caco_lfc.drop(['Barcode Sequence', 'Gene Symbol', 'Gene ID'], axis=1).drop_duplicates() \n",
    "residuals_lfcs, all_model_info, model_fit_plots = run_guide_residuals(Caco_lfc)"
   ]
  },
  {
   "cell_type": "code",
   "execution_count": 10,
   "metadata": {},
   "outputs": [],
   "source": [
    "Brunello_chip = pd.read_csv('../../Data/Interim/Goujon/Caco2/CP0041_GRCh38_NCBI_strict_gene_20200612.chip', '\\t')\n",
    "Brunello_chip =  Brunello_chip.drop('Gene ID', axis = 1)\n",
    "Brunello_chip = Brunello_chip.rename(columns = {'Barcode Sequence':'sgRNA Sequence'})\n",
    "guide_mapping = pool.group_pseudogenes(Brunello_chip, pseudogene_size=4, gene_col='Gene Symbol', control_regex=['ONE_INTERGENIC', 'NO_SITE'])"
   ]
  },
  {
   "cell_type": "code",
   "execution_count": 11,
   "metadata": {
    "scrolled": true
   },
   "outputs": [
    {
     "data": {
      "text/html": [
       "<div>\n",
       "<style scoped>\n",
       "    .dataframe tbody tr th:only-of-type {\n",
       "        vertical-align: middle;\n",
       "    }\n",
       "\n",
       "    .dataframe tbody tr th {\n",
       "        vertical-align: top;\n",
       "    }\n",
       "\n",
       "    .dataframe thead th {\n",
       "        text-align: right;\n",
       "    }\n",
       "</style>\n",
       "<table border=\"1\" class=\"dataframe\">\n",
       "  <thead>\n",
       "    <tr style=\"text-align: right;\">\n",
       "      <th></th>\n",
       "      <th>condition</th>\n",
       "      <th>Gene Symbol</th>\n",
       "      <th>guides</th>\n",
       "      <th>avg_lfc</th>\n",
       "      <th>avg_lfc_reference</th>\n",
       "      <th>residual_zscore</th>\n",
       "      <th>p_value</th>\n",
       "      <th>fdr_bh</th>\n",
       "    </tr>\n",
       "  </thead>\n",
       "  <tbody>\n",
       "    <tr>\n",
       "      <th>0</th>\n",
       "      <td>Caco2_1_res_pop_LFC</td>\n",
       "      <td>A1BG</td>\n",
       "      <td>4</td>\n",
       "      <td>-2.373616</td>\n",
       "      <td>-0.066135</td>\n",
       "      <td>1.012171</td>\n",
       "      <td>0.311456</td>\n",
       "      <td>0.999924</td>\n",
       "    </tr>\n",
       "    <tr>\n",
       "      <th>1</th>\n",
       "      <td>Caco2_1_res_pop_LFC</td>\n",
       "      <td>A1CF</td>\n",
       "      <td>4</td>\n",
       "      <td>-3.496826</td>\n",
       "      <td>0.292378</td>\n",
       "      <td>-0.676727</td>\n",
       "      <td>0.498579</td>\n",
       "      <td>0.999924</td>\n",
       "    </tr>\n",
       "    <tr>\n",
       "      <th>2</th>\n",
       "      <td>Caco2_1_res_pop_LFC</td>\n",
       "      <td>A2M</td>\n",
       "      <td>4</td>\n",
       "      <td>-1.758410</td>\n",
       "      <td>0.119551</td>\n",
       "      <td>1.734995</td>\n",
       "      <td>0.082742</td>\n",
       "      <td>0.993746</td>\n",
       "    </tr>\n",
       "    <tr>\n",
       "      <th>3</th>\n",
       "      <td>Caco2_1_res_pop_LFC</td>\n",
       "      <td>A2ML1</td>\n",
       "      <td>4</td>\n",
       "      <td>-3.641734</td>\n",
       "      <td>-0.054713</td>\n",
       "      <td>-0.754240</td>\n",
       "      <td>0.450705</td>\n",
       "      <td>0.999924</td>\n",
       "    </tr>\n",
       "    <tr>\n",
       "      <th>4</th>\n",
       "      <td>Caco2_1_res_pop_LFC</td>\n",
       "      <td>A3GALT2</td>\n",
       "      <td>4</td>\n",
       "      <td>-2.965426</td>\n",
       "      <td>0.002172</td>\n",
       "      <td>0.161350</td>\n",
       "      <td>0.871818</td>\n",
       "      <td>0.999924</td>\n",
       "    </tr>\n",
       "    <tr>\n",
       "      <th>...</th>\n",
       "      <td>...</td>\n",
       "      <td>...</td>\n",
       "      <td>...</td>\n",
       "      <td>...</td>\n",
       "      <td>...</td>\n",
       "      <td>...</td>\n",
       "      <td>...</td>\n",
       "      <td>...</td>\n",
       "    </tr>\n",
       "    <tr>\n",
       "      <th>42295</th>\n",
       "      <td>Caco2_2.1_res_pop_LFC</td>\n",
       "      <td>ZYG11A</td>\n",
       "      <td>4</td>\n",
       "      <td>-2.567325</td>\n",
       "      <td>-0.033578</td>\n",
       "      <td>2.044485</td>\n",
       "      <td>0.040906</td>\n",
       "      <td>0.548608</td>\n",
       "    </tr>\n",
       "    <tr>\n",
       "      <th>42296</th>\n",
       "      <td>Caco2_2.1_res_pop_LFC</td>\n",
       "      <td>ZYG11B</td>\n",
       "      <td>4</td>\n",
       "      <td>-3.540109</td>\n",
       "      <td>0.047652</td>\n",
       "      <td>-0.194975</td>\n",
       "      <td>0.845413</td>\n",
       "      <td>0.966856</td>\n",
       "    </tr>\n",
       "    <tr>\n",
       "      <th>42297</th>\n",
       "      <td>Caco2_2.1_res_pop_LFC</td>\n",
       "      <td>ZYX</td>\n",
       "      <td>4</td>\n",
       "      <td>-3.616438</td>\n",
       "      <td>0.109451</td>\n",
       "      <td>-0.301356</td>\n",
       "      <td>0.763143</td>\n",
       "      <td>0.945411</td>\n",
       "    </tr>\n",
       "    <tr>\n",
       "      <th>42298</th>\n",
       "      <td>Caco2_2.1_res_pop_LFC</td>\n",
       "      <td>ZZEF1</td>\n",
       "      <td>4</td>\n",
       "      <td>-4.171081</td>\n",
       "      <td>-0.221864</td>\n",
       "      <td>-1.252995</td>\n",
       "      <td>0.210208</td>\n",
       "      <td>0.805076</td>\n",
       "    </tr>\n",
       "    <tr>\n",
       "      <th>42299</th>\n",
       "      <td>Caco2_2.1_res_pop_LFC</td>\n",
       "      <td>ZZZ3</td>\n",
       "      <td>4</td>\n",
       "      <td>-3.684623</td>\n",
       "      <td>-0.122875</td>\n",
       "      <td>-0.268019</td>\n",
       "      <td>0.788685</td>\n",
       "      <td>0.951294</td>\n",
       "    </tr>\n",
       "  </tbody>\n",
       "</table>\n",
       "<p>42300 rows × 8 columns</p>\n",
       "</div>"
      ],
      "text/plain": [
       "                   condition Gene Symbol  guides   avg_lfc  avg_lfc_reference  \\\n",
       "0        Caco2_1_res_pop_LFC        A1BG       4 -2.373616          -0.066135   \n",
       "1        Caco2_1_res_pop_LFC        A1CF       4 -3.496826           0.292378   \n",
       "2        Caco2_1_res_pop_LFC         A2M       4 -1.758410           0.119551   \n",
       "3        Caco2_1_res_pop_LFC       A2ML1       4 -3.641734          -0.054713   \n",
       "4        Caco2_1_res_pop_LFC     A3GALT2       4 -2.965426           0.002172   \n",
       "...                      ...         ...     ...       ...                ...   \n",
       "42295  Caco2_2.1_res_pop_LFC      ZYG11A       4 -2.567325          -0.033578   \n",
       "42296  Caco2_2.1_res_pop_LFC      ZYG11B       4 -3.540109           0.047652   \n",
       "42297  Caco2_2.1_res_pop_LFC         ZYX       4 -3.616438           0.109451   \n",
       "42298  Caco2_2.1_res_pop_LFC       ZZEF1       4 -4.171081          -0.221864   \n",
       "42299  Caco2_2.1_res_pop_LFC        ZZZ3       4 -3.684623          -0.122875   \n",
       "\n",
       "       residual_zscore   p_value    fdr_bh  \n",
       "0             1.012171  0.311456  0.999924  \n",
       "1            -0.676727  0.498579  0.999924  \n",
       "2             1.734995  0.082742  0.993746  \n",
       "3            -0.754240  0.450705  0.999924  \n",
       "4             0.161350  0.871818  0.999924  \n",
       "...                ...       ...       ...  \n",
       "42295         2.044485  0.040906  0.548608  \n",
       "42296        -0.194975  0.845413  0.966856  \n",
       "42297        -0.301356  0.763143  0.945411  \n",
       "42298        -1.252995  0.210208  0.805076  \n",
       "42299        -0.268019  0.788685  0.951294  \n",
       "\n",
       "[42300 rows x 8 columns]"
      ]
     },
     "execution_count": 11,
     "metadata": {},
     "output_type": "execute_result"
    }
   ],
   "source": [
    "gene_residuals = anchors.get_gene_residuals(residuals_lfcs.drop_duplicates(), guide_mapping)\n",
    "gene_residuals"
   ]
  },
  {
   "cell_type": "code",
   "execution_count": 12,
   "metadata": {
    "scrolled": true
   },
   "outputs": [
    {
     "name": "stdout",
     "output_type": "stream",
     "text": [
      "['Caco2_2.1_res_pop_LFC', 'Caco2_1_res_pop_LFC']\n",
      "Caco2_2.1_res_pop_LFC\n",
      "Caco2_1_res_pop_LFC\n"
     ]
    }
   ],
   "source": [
    "gene_residual_sheet = fns.format_gene_residuals(gene_residuals, guide_min = 3, guide_max = 5)\n",
    "\n",
    "guide_residual_sheet = pd.merge(guide_mapping, residuals_lfcs.drop_duplicates(), on = 'sgRNA Sequence', how = 'inner')"
   ]
  },
  {
   "cell_type": "code",
   "execution_count": 13,
   "metadata": {},
   "outputs": [],
   "source": [
    "with pd.ExcelWriter('../../Data/Processed/GEO_submission_v2/Caco2_Brunello_Goujon_v2.xlsx') as writer:  \n",
    "    gene_residual_sheet.to_excel(writer, sheet_name='Caco2_Brunello_avg_zscore', index =False)\n",
    "    reads_plate1.to_excel(writer, sheet_name='Caco2_Brunello_genomewide_reads', index =False)\n",
    "    guide_mapping.to_excel(writer, sheet_name='Caco2_Brunello_guide_mapping', index =False)"
   ]
  },
  {
   "cell_type": "code",
   "execution_count": 14,
   "metadata": {},
   "outputs": [],
   "source": [
    "with pd.ExcelWriter('../../Data/Processed/Individual_screens_v2/Caco2_Brunello_Goujon_v3.xlsx') as writer:   \n",
    "    gene_residuals.to_excel(writer, sheet_name='condition_genomewide_zscore', index =False)\n",
    "    guide_residual_sheet.to_excel(writer, sheet_name='guide-level_zscore', index =False)"
   ]
  },
  {
   "cell_type": "code",
   "execution_count": null,
   "metadata": {},
   "outputs": [],
   "source": []
  }
 ],
 "metadata": {
  "hide_input": false,
  "kernelspec": {
   "display_name": "Python 3",
   "language": "python",
   "name": "python3"
  },
  "language_info": {
   "codemirror_mode": {
    "name": "ipython",
    "version": 3
   },
   "file_extension": ".py",
   "mimetype": "text/x-python",
   "name": "python",
   "nbconvert_exporter": "python",
   "pygments_lexer": "ipython3",
   "version": "3.7.6"
  },
  "toc": {
   "base_numbering": 1,
   "nav_menu": {},
   "number_sections": true,
   "sideBar": true,
   "skip_h1_title": false,
   "title_cell": "Table of Contents",
   "title_sidebar": "Contents",
   "toc_cell": true,
   "toc_position": {
    "height": "calc(100% - 180px)",
    "left": "10px",
    "top": "150px",
    "width": "293px"
   },
   "toc_section_display": true,
   "toc_window_display": true
  },
  "varInspector": {
   "cols": {
    "lenName": 16,
    "lenType": 16,
    "lenVar": 40
   },
   "kernels_config": {
    "python": {
     "delete_cmd_postfix": "",
     "delete_cmd_prefix": "del ",
     "library": "var_list.py",
     "varRefreshCmd": "print(var_dic_list())"
    },
    "r": {
     "delete_cmd_postfix": ") ",
     "delete_cmd_prefix": "rm(",
     "library": "var_list.r",
     "varRefreshCmd": "cat(var_dic_list()) "
    }
   },
   "types_to_exclude": [
    "module",
    "function",
    "builtin_function_or_method",
    "instance",
    "_Feature"
   ],
   "window_display": false
  }
 },
 "nbformat": 4,
 "nbformat_minor": 2
}