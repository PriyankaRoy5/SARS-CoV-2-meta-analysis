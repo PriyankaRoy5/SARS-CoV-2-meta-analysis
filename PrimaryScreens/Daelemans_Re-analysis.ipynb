{
 "cells": [
  {
   "cell_type": "code",
   "execution_count": 7,
   "metadata": {},
   "outputs": [
    {
     "name": "stdout",
     "output_type": "stream",
     "text": [
      "The autoreload extension is already loaded. To reload it, use:\n",
      "  %reload_ext autoreload\n"
     ]
    }
   ],
   "source": [
    "%load_ext autoreload\n",
    "%autoreload 2"
   ]
  },
  {
   "cell_type": "code",
   "execution_count": 8,
   "metadata": {},
   "outputs": [],
   "source": [
    "import pandas as pd\n",
    "import numpy as np\n",
    "import matplotlib.pyplot as plt\n",
    "import seaborn as sns\n",
    "import gpplot as gpp\n",
    "import anchors\n",
    "from poola import core as pool\n",
    "\n",
    "import core_functions as fns\n",
    "\n",
    "gpp.set_aesthetics(palette='Set2')\n"
   ]
  },
  {
   "cell_type": "markdown",
   "metadata": {},
   "source": [
    "## Functions "
   ]
  },
  {
   "cell_type": "code",
   "execution_count": 9,
   "metadata": {},
   "outputs": [],
   "source": [
    "#Process data\n",
    "#Modified from poola to add na = False parameter \n",
    "def group_pseudogenes(annotations, pseudogene_size,\n",
    "                      gene_col, control_regex, seed=7):\n",
    "    \"\"\"\n",
    "    Remap annotations dataframe such that control genes are grouped into\n",
    "    pseudo-genes\n",
    "    annotations: dataframe |\n",
    "    pseudogene_size: int |\n",
    "    gene_col: str |\n",
    "    control_regex: list of str, regular expressions to identify groups of\n",
    "        pseudogenes |\n",
    "    seed: int, random seed for reproducible outputs |\n",
    "    returns: dataframe of annotations with controls grouped into pseudogenes |\n",
    "    \"\"\"\n",
    "    remapped_annotations = annotations.copy()\n",
    "    genes = remapped_annotations[gene_col]\n",
    "    control_remap = {}\n",
    "    for regex in control_regex:\n",
    "        control_genes = genes[genes.str.contains(regex,na=False)].to_list()\n",
    "        np.random.seed(seed)\n",
    "        np.random.shuffle(control_genes) # shuffle mutates existing variable\n",
    "        n_controls = len(control_genes)\n",
    "        for i in range(n_controls):\n",
    "            gene = control_genes[i]\n",
    "            # Use module to get the right number of groupings\n",
    "            gene_number = i % np.ceil(n_controls / pseudogene_size)\n",
    "            control_remap[gene] = regex + '_' + str(int(gene_number))\n",
    "    remapped_annotations[gene_col] = remapped_annotations[gene_col].replace(control_remap)\n",
    "    return remapped_annotations\n",
    "\n",
    "def get_grouped_controls(df, control_name):\n",
    "    '''\n",
    "    Inputs:\n",
    "    1. df: guide-gene annotation df \n",
    "    2. control_name: list of string identifiers for controls \n",
    "    Outputs:\n",
    "    1. grouped_genes: controls grouped into pseudogenes with\n",
    "    '''\n",
    "    ungrouped_df = pd.DataFrame()\n",
    "    for control in control_name:\n",
    "        control_condition = (df['Gene Symbol'].str.contains(control, na=False))\n",
    "        control_rows = df[control_condition]\n",
    "        #if all controls have same Gene Symbol\n",
    "        if len(set(control_rows['Gene Symbol'])) == 1:\n",
    "            ungrouped_df = df.copy()\n",
    "            # Give controls unique names before grouping \n",
    "            ungrouped_df.loc[control_condition, 'Gene Symbol'] = control + control_rows['Guide'] \n",
    "    \n",
    "    ungrouped_genes = ungrouped_df.dropna()\n",
    "\n",
    "    grouped_genes = group_pseudogenes(ungrouped_genes[['Guide', 'Gene Symbol']], pseudogene_size=4, gene_col='Gene Symbol', control_regex = control_name)\n",
    "\n",
    "    #grouped_controls = pd.concat([LibA_grouped_genes, LibB_grouped_genes])\n",
    "\n",
    "    return grouped_genes\n",
    "\n",
    "    \n",
    "def match_pseudogenes(df, guide_mapping, control_name):\n",
    "    '''\n",
    "    Inputs: \n",
    "    1. df: data frame to which grouped pseudogene annotations will be merged \n",
    "    2. guide_mapping: guide-gene annotation data frame\n",
    "    3. control_name: list containing substrings that identify controls \n",
    "    '''\n",
    "    grouped_genes = get_grouped_controls(guide_mapping, control_name)\n",
    "    grouped_df = pd.merge(grouped_genes, df, on = 'Guide', how = 'outer', suffixes = ['', '_old'])\n",
    "    grouped_df.loc[:,'Gene Symbol'] = grouped_df.loc[:,'Gene Symbol'].fillna(grouped_df['Gene Symbol_old'])\n",
    "    grouped_df = grouped_df.drop('Gene Symbol_old', axis = 1)\n",
    "\n",
    "    return grouped_df\n",
    "\n",
    "def col_avg(df, gene_col = ['Gene Symbol'], col_name = ''):\n",
    "    avg_df = df[gene_col].copy()\n",
    "    if col_name == '':\n",
    "        #library = get_df_name(df).split('_')[-1] #get library name from df name\n",
    "        avg_col_name = 'avg'#+library\n",
    "    else:\n",
    "        avg_col_name = col_name\n",
    "    avg_df[avg_col_name] = df.mean(axis = 1)\n",
    "    return avg_df"
   ]
  },
  {
   "cell_type": "markdown",
   "metadata": {},
   "source": [
    "## Data Summary\n",
    "\n",
    "* Baggen et al.\n",
    "* Cell line: Huh 7\n",
    "* Library: Brunello"
   ]
  },
  {
   "cell_type": "code",
   "execution_count": 10,
   "metadata": {},
   "outputs": [
    {
     "data": {
      "text/html": [
       "<div>\n",
       "<style scoped>\n",
       "    .dataframe tbody tr th:only-of-type {\n",
       "        vertical-align: middle;\n",
       "    }\n",
       "\n",
       "    .dataframe tbody tr th {\n",
       "        vertical-align: top;\n",
       "    }\n",
       "\n",
       "    .dataframe thead th {\n",
       "        text-align: right;\n",
       "    }\n",
       "</style>\n",
       "<table border=\"1\" class=\"dataframe\">\n",
       "  <thead>\n",
       "    <tr style=\"text-align: right;\">\n",
       "      <th></th>\n",
       "      <th>Guide</th>\n",
       "      <th>Gene Symbol</th>\n",
       "      <th>pDNA</th>\n",
       "      <th>Control replicate A</th>\n",
       "      <th>Control replicate B</th>\n",
       "      <th>SARS-CoV-2 replicate A_low</th>\n",
       "      <th>SARS-CoV-2 replicate B_low</th>\n",
       "      <th>SARS-CoV-2 replicate A_high</th>\n",
       "      <th>SARS-CoV-2 replicate B_high</th>\n",
       "    </tr>\n",
       "  </thead>\n",
       "  <tbody>\n",
       "    <tr>\n",
       "      <th>0</th>\n",
       "      <td>37012_1</td>\n",
       "      <td>37012</td>\n",
       "      <td>227</td>\n",
       "      <td>13</td>\n",
       "      <td>25</td>\n",
       "      <td>45</td>\n",
       "      <td>19</td>\n",
       "      <td>0.0</td>\n",
       "      <td>0.0</td>\n",
       "    </tr>\n",
       "    <tr>\n",
       "      <th>1</th>\n",
       "      <td>37012_2</td>\n",
       "      <td>37012</td>\n",
       "      <td>159</td>\n",
       "      <td>52</td>\n",
       "      <td>38</td>\n",
       "      <td>35</td>\n",
       "      <td>31</td>\n",
       "      <td>0.0</td>\n",
       "      <td>0.0</td>\n",
       "    </tr>\n",
       "    <tr>\n",
       "      <th>2</th>\n",
       "      <td>37012_3</td>\n",
       "      <td>37012</td>\n",
       "      <td>375</td>\n",
       "      <td>59</td>\n",
       "      <td>36</td>\n",
       "      <td>40</td>\n",
       "      <td>16</td>\n",
       "      <td>0.0</td>\n",
       "      <td>0.0</td>\n",
       "    </tr>\n",
       "    <tr>\n",
       "      <th>3</th>\n",
       "      <td>37012_4</td>\n",
       "      <td>37012</td>\n",
       "      <td>98</td>\n",
       "      <td>5</td>\n",
       "      <td>4</td>\n",
       "      <td>23</td>\n",
       "      <td>13</td>\n",
       "      <td>0.0</td>\n",
       "      <td>0.0</td>\n",
       "    </tr>\n",
       "    <tr>\n",
       "      <th>4</th>\n",
       "      <td>37135_1</td>\n",
       "      <td>37135</td>\n",
       "      <td>132</td>\n",
       "      <td>8</td>\n",
       "      <td>32</td>\n",
       "      <td>18</td>\n",
       "      <td>21</td>\n",
       "      <td>0.0</td>\n",
       "      <td>0.0</td>\n",
       "    </tr>\n",
       "    <tr>\n",
       "      <th>...</th>\n",
       "      <td>...</td>\n",
       "      <td>...</td>\n",
       "      <td>...</td>\n",
       "      <td>...</td>\n",
       "      <td>...</td>\n",
       "      <td>...</td>\n",
       "      <td>...</td>\n",
       "      <td>...</td>\n",
       "      <td>...</td>\n",
       "    </tr>\n",
       "    <tr>\n",
       "      <th>77307</th>\n",
       "      <td>ZZEF1_4</td>\n",
       "      <td>ZZEF1</td>\n",
       "      <td>365</td>\n",
       "      <td>26</td>\n",
       "      <td>44</td>\n",
       "      <td>53</td>\n",
       "      <td>6</td>\n",
       "      <td>0.0</td>\n",
       "      <td>0.0</td>\n",
       "    </tr>\n",
       "    <tr>\n",
       "      <th>77308</th>\n",
       "      <td>ZZZ3_1</td>\n",
       "      <td>ZZZ3</td>\n",
       "      <td>317</td>\n",
       "      <td>3</td>\n",
       "      <td>16</td>\n",
       "      <td>0</td>\n",
       "      <td>11</td>\n",
       "      <td>0.0</td>\n",
       "      <td>0.0</td>\n",
       "    </tr>\n",
       "    <tr>\n",
       "      <th>77309</th>\n",
       "      <td>ZZZ3_2</td>\n",
       "      <td>ZZZ3</td>\n",
       "      <td>427</td>\n",
       "      <td>32</td>\n",
       "      <td>31</td>\n",
       "      <td>65</td>\n",
       "      <td>46</td>\n",
       "      <td>0.0</td>\n",
       "      <td>0.0</td>\n",
       "    </tr>\n",
       "    <tr>\n",
       "      <th>77310</th>\n",
       "      <td>ZZZ3_3</td>\n",
       "      <td>ZZZ3</td>\n",
       "      <td>171</td>\n",
       "      <td>53</td>\n",
       "      <td>52</td>\n",
       "      <td>26</td>\n",
       "      <td>27</td>\n",
       "      <td>0.0</td>\n",
       "      <td>0.0</td>\n",
       "    </tr>\n",
       "    <tr>\n",
       "      <th>77311</th>\n",
       "      <td>ZZZ3_4</td>\n",
       "      <td>ZZZ3</td>\n",
       "      <td>79</td>\n",
       "      <td>6</td>\n",
       "      <td>18</td>\n",
       "      <td>2</td>\n",
       "      <td>4</td>\n",
       "      <td>0.0</td>\n",
       "      <td>0.0</td>\n",
       "    </tr>\n",
       "  </tbody>\n",
       "</table>\n",
       "<p>77312 rows × 9 columns</p>\n",
       "</div>"
      ],
      "text/plain": [
       "         Guide Gene Symbol  pDNA  Control replicate A  Control replicate B  \\\n",
       "0      37012_1       37012   227                   13                   25   \n",
       "1      37012_2       37012   159                   52                   38   \n",
       "2      37012_3       37012   375                   59                   36   \n",
       "3      37012_4       37012    98                    5                    4   \n",
       "4      37135_1       37135   132                    8                   32   \n",
       "...        ...         ...   ...                  ...                  ...   \n",
       "77307  ZZEF1_4       ZZEF1   365                   26                   44   \n",
       "77308   ZZZ3_1        ZZZ3   317                    3                   16   \n",
       "77309   ZZZ3_2        ZZZ3   427                   32                   31   \n",
       "77310   ZZZ3_3        ZZZ3   171                   53                   52   \n",
       "77311   ZZZ3_4        ZZZ3    79                    6                   18   \n",
       "\n",
       "       SARS-CoV-2 replicate A_low  SARS-CoV-2 replicate B_low  \\\n",
       "0                              45                          19   \n",
       "1                              35                          31   \n",
       "2                              40                          16   \n",
       "3                              23                          13   \n",
       "4                              18                          21   \n",
       "...                           ...                         ...   \n",
       "77307                          53                           6   \n",
       "77308                           0                          11   \n",
       "77309                          65                          46   \n",
       "77310                          26                          27   \n",
       "77311                           2                           4   \n",
       "\n",
       "       SARS-CoV-2 replicate A_high  SARS-CoV-2 replicate B_high  \n",
       "0                              0.0                          0.0  \n",
       "1                              0.0                          0.0  \n",
       "2                              0.0                          0.0  \n",
       "3                              0.0                          0.0  \n",
       "4                              0.0                          0.0  \n",
       "...                            ...                          ...  \n",
       "77307                          0.0                          0.0  \n",
       "77308                          0.0                          0.0  \n",
       "77309                          0.0                          0.0  \n",
       "77310                          0.0                          0.0  \n",
       "77311                          0.0                          0.0  \n",
       "\n",
       "[77312 rows x 9 columns]"
      ]
     },
     "execution_count": 10,
     "metadata": {},
     "output_type": "execute_result"
    }
   ],
   "source": [
    "# Reads from GEO Submission GSE175666 \n",
    "reads = pd.read_excel('Data/GSE175666_Huh7_Brunello_Daelemans_v2.xlsx', sheet_name='Huh7_Brunello_genomewide_reads')\n",
    "reads\n"
   ]
  },
  {
   "cell_type": "code",
   "execution_count": 11,
   "metadata": {
    "scrolled": true
   },
   "outputs": [
    {
     "data": {
      "text/html": [
       "<div>\n",
       "<style scoped>\n",
       "    .dataframe tbody tr th:only-of-type {\n",
       "        vertical-align: middle;\n",
       "    }\n",
       "\n",
       "    .dataframe tbody tr th {\n",
       "        vertical-align: top;\n",
       "    }\n",
       "\n",
       "    .dataframe thead th {\n",
       "        text-align: right;\n",
       "    }\n",
       "</style>\n",
       "<table border=\"1\" class=\"dataframe\">\n",
       "  <thead>\n",
       "    <tr style=\"text-align: right;\">\n",
       "      <th></th>\n",
       "      <th>Guide</th>\n",
       "      <th>Gene Symbol</th>\n",
       "      <th>pDNA_lognorm</th>\n",
       "      <th>Control_lognorm</th>\n",
       "      <th>SARS-CoV-2_low_lognorm</th>\n",
       "      <th>SARS-CoV-2_high_lognorm</th>\n",
       "    </tr>\n",
       "  </thead>\n",
       "  <tbody>\n",
       "    <tr>\n",
       "      <th>0</th>\n",
       "      <td>37012_1</td>\n",
       "      <td>37012</td>\n",
       "      <td>3.928298</td>\n",
       "      <td>3.212470</td>\n",
       "      <td>3.556265</td>\n",
       "      <td>0.0</td>\n",
       "    </tr>\n",
       "    <tr>\n",
       "      <th>1</th>\n",
       "      <td>37012_2</td>\n",
       "      <td>37012</td>\n",
       "      <td>3.454601</td>\n",
       "      <td>4.416254</td>\n",
       "      <td>3.705609</td>\n",
       "      <td>0.0</td>\n",
       "    </tr>\n",
       "    <tr>\n",
       "      <th>2</th>\n",
       "      <td>37012_3</td>\n",
       "      <td>37012</td>\n",
       "      <td>4.614603</td>\n",
       "      <td>4.467507</td>\n",
       "      <td>3.368910</td>\n",
       "      <td>0.0</td>\n",
       "    </tr>\n",
       "    <tr>\n",
       "      <th>3</th>\n",
       "      <td>37012_4</td>\n",
       "      <td>37012</td>\n",
       "      <td>2.836098</td>\n",
       "      <td>1.612256</td>\n",
       "      <td>2.877647</td>\n",
       "      <td>0.0</td>\n",
       "    </tr>\n",
       "    <tr>\n",
       "      <th>4</th>\n",
       "      <td>37135_1</td>\n",
       "      <td>37135</td>\n",
       "      <td>3.212781</td>\n",
       "      <td>3.084608</td>\n",
       "      <td>3.020872</td>\n",
       "      <td>0.0</td>\n",
       "    </tr>\n",
       "    <tr>\n",
       "      <th>...</th>\n",
       "      <td>...</td>\n",
       "      <td>...</td>\n",
       "      <td>...</td>\n",
       "      <td>...</td>\n",
       "      <td>...</td>\n",
       "      <td>...</td>\n",
       "    </tr>\n",
       "    <tr>\n",
       "      <th>77118</th>\n",
       "      <td>ZZEF1_4</td>\n",
       "      <td>ZZEF1</td>\n",
       "      <td>4.577221</td>\n",
       "      <td>4.042620</td>\n",
       "      <td>3.004584</td>\n",
       "      <td>0.0</td>\n",
       "    </tr>\n",
       "    <tr>\n",
       "      <th>77119</th>\n",
       "      <td>ZZZ3_1</td>\n",
       "      <td>ZZZ3</td>\n",
       "      <td>4.382930</td>\n",
       "      <td>2.133870</td>\n",
       "      <td>1.188576</td>\n",
       "      <td>0.0</td>\n",
       "    </tr>\n",
       "    <tr>\n",
       "      <th>77120</th>\n",
       "      <td>ZZZ3_2</td>\n",
       "      <td>ZZZ3</td>\n",
       "      <td>4.794759</td>\n",
       "      <td>3.945309</td>\n",
       "      <td>4.392727</td>\n",
       "      <td>0.0</td>\n",
       "    </tr>\n",
       "    <tr>\n",
       "      <th>77121</th>\n",
       "      <td>ZZZ3_3</td>\n",
       "      <td>ZZZ3</td>\n",
       "      <td>3.550306</td>\n",
       "      <td>4.644232</td>\n",
       "      <td>3.418389</td>\n",
       "      <td>0.0</td>\n",
       "    </tr>\n",
       "    <tr>\n",
       "      <th>77122</th>\n",
       "      <td>ZZZ3_4</td>\n",
       "      <td>ZZZ3</td>\n",
       "      <td>2.572959</td>\n",
       "      <td>2.546621</td>\n",
       "      <td>1.051648</td>\n",
       "      <td>0.0</td>\n",
       "    </tr>\n",
       "  </tbody>\n",
       "</table>\n",
       "<p>77123 rows × 6 columns</p>\n",
       "</div>"
      ],
      "text/plain": [
       "         Guide Gene Symbol  pDNA_lognorm  Control_lognorm  \\\n",
       "0      37012_1       37012      3.928298         3.212470   \n",
       "1      37012_2       37012      3.454601         4.416254   \n",
       "2      37012_3       37012      4.614603         4.467507   \n",
       "3      37012_4       37012      2.836098         1.612256   \n",
       "4      37135_1       37135      3.212781         3.084608   \n",
       "...        ...         ...           ...              ...   \n",
       "77118  ZZEF1_4       ZZEF1      4.577221         4.042620   \n",
       "77119   ZZZ3_1        ZZZ3      4.382930         2.133870   \n",
       "77120   ZZZ3_2        ZZZ3      4.794759         3.945309   \n",
       "77121   ZZZ3_3        ZZZ3      3.550306         4.644232   \n",
       "77122   ZZZ3_4        ZZZ3      2.572959         2.546621   \n",
       "\n",
       "       SARS-CoV-2_low_lognorm  SARS-CoV-2_high_lognorm  \n",
       "0                    3.556265                      0.0  \n",
       "1                    3.705609                      0.0  \n",
       "2                    3.368910                      0.0  \n",
       "3                    2.877647                      0.0  \n",
       "4                    3.020872                      0.0  \n",
       "...                       ...                      ...  \n",
       "77118                3.004584                      0.0  \n",
       "77119                1.188576                      0.0  \n",
       "77120                4.392727                      0.0  \n",
       "77121                3.418389                      0.0  \n",
       "77122                1.051648                      0.0  \n",
       "\n",
       "[77123 rows x 6 columns]"
      ]
     },
     "execution_count": 11,
     "metadata": {},
     "output_type": "execute_result"
    }
   ],
   "source": [
    "#Calculate lognorm\n",
    "cols = reads.columns[2:].to_list() #reads columns = start at 3rd column\n",
    "lognorms = fns.get_lognorm(reads.dropna(), cols = cols)\n",
    "\n",
    "#Average across replicates\n",
    "base_lognorms = lognorms.copy()[['Guide', 'Gene Symbol', 'pDNA_lognorm']]\n",
    "link_cols = ['Guide', 'Gene Symbol']\n",
    "\n",
    "#Mock Condition\n",
    "control_cols = link_cols + [col for col in lognorms.columns if 'Control' in col]\n",
    "control_lognorms = lognorms[control_cols]\n",
    "control_avg = col_avg(control_lognorms, gene_col = link_cols, col_name = 'Control_lognorm')\n",
    "\n",
    "#Low-stringency Condition\n",
    "low_cols = link_cols + [col for col in lognorms.columns if 'low' in col]\n",
    "low_lognorms = lognorms[low_cols]\n",
    "low_lognorms_avg = col_avg(low_lognorms, gene_col = link_cols, col_name = 'SARS-CoV-2_low_lognorm')\n",
    "\n",
    "#High-stringency Condition\n",
    "high_cols = link_cols + [col for col in lognorms.columns if 'high' in col]\n",
    "high_lognorms = lognorms[high_cols]\n",
    "high_lognorms_avg = col_avg(high_lognorms, gene_col = link_cols, col_name = 'SARS-CoV-2_high_lognorm')\n",
    "\n",
    "sars_lognorms = pd.merge(low_lognorms_avg, high_lognorms_avg, on = link_cols, how = 'outer')\n",
    "\n",
    "lognorms_clean1 = pd.merge(base_lognorms, control_avg, on = link_cols, how = 'outer')\n",
    "lognorms_clean = pd.merge(lognorms_clean1, sars_lognorms, on = link_cols, how = 'outer')\n",
    "\n",
    "lognorms_clean\n"
   ]
  },
  {
   "cell_type": "markdown",
   "metadata": {},
   "source": [
    "## Quality Control\n",
    "### Population Distributions"
   ]
  },
  {
   "cell_type": "code",
   "execution_count": 12,
   "metadata": {},
   "outputs": [
    {
     "data": {
      "image/png": "[encoded data removed]",
      "text/plain": [
       "<Figure size 432x288 with 1 Axes>"
      ]
     },
     "metadata": {},
     "output_type": "display_data"
    }
   ],
   "source": [
    "#Calculate log-fold change relative to pDNA\n",
    "target_cols = list(lognorms_clean.columns[-3:])\n",
    "pDNA_lfc = fns.calculate_lfc(lognorms_clean,target_cols)\n",
    "#Plot population distributions of log-fold changes \n",
    "fns.lfc_dist_plot(pDNA_lfc, initial_id = 'Control', res_id = 'SARS', filename = 'Huh7_Brunello')"
   ]
  },
  {
   "cell_type": "markdown",
   "metadata": {},
   "source": [
    "### Control Distributions"
   ]
  },
  {
   "cell_type": "code",
   "execution_count": 13,
   "metadata": {},
   "outputs": [
    {
     "data": {
      "image/png": "[encoded data removed]",
      "text/plain": [
       "<Figure size 432x288 with 1 Axes>"
      ]
     },
     "metadata": {},
     "output_type": "display_data"
    }
   ],
   "source": [
    "fns.control_dist_plot(pDNA_lfc, initial_id= 'Control', res_id='SARS', control_name=['Non-Targeting'], filename='Huh7_Brunello')"
   ]
  },
  {
   "cell_type": "markdown",
   "metadata": {},
   "source": [
    "### ROC-AUC"
   ]
  },
  {
   "cell_type": "code",
   "execution_count": 14,
   "metadata": {},
   "outputs": [
    {
     "data": {
      "text/plain": [
       "Text(0, 0.5, 'True Positive Rate (essential)')"
      ]
     },
     "execution_count": 14,
     "metadata": {},
     "output_type": "execute_result"
    },
    {
     "data": {
      "image/png": "[encoded data removed]",
      "text/plain": [
       "<Figure size 432x432 with 1 Axes>"
      ]
     },
     "metadata": {},
     "output_type": "display_data"
    }
   ],
   "source": [
    "ess_genes, non_ess_genes = fns.get_gene_sets()\n",
    "\n",
    "tp_genes = ess_genes.loc[:, 'Gene Symbol'].to_list()\n",
    "\n",
    "fp_genes = non_ess_genes.loc[:, 'Gene Symbol'].to_list()\n",
    "\n",
    "roc_auc, roc_df = pool.get_roc_aucs(pDNA_lfc, tp_genes, fp_genes, gene_col = 'Gene Symbol', score_col='Control_lfc')\n",
    "\n",
    "fig,ax=plt.subplots(figsize=(6,6))\n",
    "sns.lineplot(data=roc_df, x='fpr',y='tpr', ci=None, label = 'Control,' + str(round(roc_auc,2)))\n",
    "\n",
    "plt.legend(bbox_to_anchor=(1.05, 1), loc=2, borderaxespad=0.)\n",
    "plt.title('ROC-AUC')\n",
    "plt.xlabel('False Positive Rate (non-essential)')\n",
    "plt.ylabel('True Positive Rate (essential)')\n"
   ]
  },
  {
   "cell_type": "markdown",
   "metadata": {},
   "source": [
    "## Gene-level analysis"
   ]
  },
  {
   "cell_type": "markdown",
   "metadata": {},
   "source": [
    "### Residual z-scores"
   ]
  },
  {
   "cell_type": "code",
   "execution_count": 15,
   "metadata": {
    "scrolled": true
   },
   "outputs": [
    {
     "name": "stdout",
     "output_type": "stream",
     "text": [
      "              modified  unperturbed\n",
      "0   SARS-CoV-2_low_lfc  Control_lfc\n",
      "1  SARS-CoV-2_high_lfc  Control_lfc\n"
     ]
    }
   ],
   "source": [
    "#Calculate z-scores of lfc residuals\n",
    "lfc_df = pDNA_lfc.copy().drop(['Gene Symbol'], axis = 1)\n",
    "lfc_df = lfc_df.dropna()\n",
    "\n",
    "guide_residuals_lfcs, all_model_info, model_fit_plots = fns.run_guide_residuals(lfc_df, initial_id= 'Control', res_id='SARS')\n",
    "\n",
    "guide_mapping = pDNA_lfc[['Guide', 'Gene Symbol']]\n",
    "\n",
    "gene_residuals = anchors.get_gene_residuals(guide_residuals_lfcs, guide_mapping)\n"
   ]
  },
  {
   "cell_type": "code",
   "execution_count": 16,
   "metadata": {},
   "outputs": [
    {
     "name": "stdout",
     "output_type": "stream",
     "text": [
      "['SARS-CoV-2_high_lfc', 'SARS-CoV-2_low_lfc']\n",
      "SARS-CoV-2_high_lfc\n",
      "SARS-CoV-2_low_lfc\n"
     ]
    }
   ],
   "source": [
    "gene_residual_sheet = fns.format_gene_residuals(gene_residuals, guide_min=3, guide_max=5)\n",
    "guide_residual_sheet = pd.merge(guide_mapping, guide_residuals_lfcs, on = 'Guide', how = 'outer')"
   ]
  },
  {
   "cell_type": "code",
   "execution_count": 11,
   "metadata": {},
   "outputs": [],
   "source": [
    "# with pd.ExcelWriter('../../Data/Processed/GEO_submission_v2/Huh7_Brunello_Daelemans_v2.xlsx') as writer:  \n",
    "#     gene_residual_sheet.to_excel(writer, sheet_name='Huh7_Brunello_avg_zscore', index =False)\n",
    "#     reads.to_excel(writer, sheet_name='Huh7_Brunello_genomewide_reads', index =False)\n",
    "#     guide_mapping.to_excel(writer, sheet_name='Huh7_Brunello_guide_mapping', index =False)"
   ]
  },
  {
   "cell_type": "code",
   "execution_count": 12,
   "metadata": {},
   "outputs": [],
   "source": [
    "# with pd.ExcelWriter('../../Data/Processed/Individual_screens_v2/Huh7_Brunello_Daelemans_v3.xlsx') as writer:   \n",
    "#     gene_residuals.to_excel(writer, sheet_name='condition_genomewide_zscore', index =False)\n",
    "#     guide_residual_sheet.to_excel(writer, sheet_name='guide-level_zscore', index =False)"
   ]
  },
  {
   "cell_type": "code",
   "execution_count": null,
   "metadata": {},
   "outputs": [],
   "source": []
  }
 ],
 "metadata": {
  "kernelspec": {
   "display_name": "Python 3 (ipykernel)",
   "language": "python",
   "name": "python3"
  },
  "language_info": {
   "codemirror_mode": {
    "name": "ipython",
    "version": 3
   },
   "file_extension": ".py",
   "mimetype": "text/x-python",
   "name": "python",
   "nbconvert_exporter": "python",
   "pygments_lexer": "ipython3",
   "version": "3.7.6"
  },
  "toc": {
   "base_numbering": 1,
   "nav_menu": {},
   "number_sections": true,
   "sideBar": true,
   "skip_h1_title": false,
   "title_cell": "Table of Contents",
   "title_sidebar": "Contents",
   "toc_cell": false,
   "toc_position": {},
   "toc_section_display": true,
   "toc_window_display": true
  }
 },
 "nbformat": 4,
 "nbformat_minor": 4
}
